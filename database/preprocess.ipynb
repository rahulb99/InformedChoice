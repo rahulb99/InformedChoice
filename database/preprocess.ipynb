{
 "cells": [
  {
   "cell_type": "code",
   "execution_count": 6,
   "id": "5264e4c6",
   "metadata": {},
   "outputs": [],
   "source": [
    "import pandas as pd\n",
    "import numpy as np"
   ]
  },
  {
   "cell_type": "code",
   "execution_count": 13,
   "id": "f7692efd",
   "metadata": {},
   "outputs": [
    {
     "name": "stderr",
     "output_type": "stream",
     "text": [
      "/var/folders/8g/fr799mss32l7s7t1l915gvdw0000gn/T/ipykernel_20048/3254916150.py:1: DtypeWarning: Columns (2,3,4,6,12,16,17,18,19) have mixed types. Specify dtype option on import or set low_memory=False.\n",
      "  food = pd.read_csv('/Users/rahulbaid/Downloads/FoodData_Central/branded_food.csv', header=0)\n"
     ]
    },
    {
     "data": {
      "text/html": [
       "<div>\n",
       "<style scoped>\n",
       "    .dataframe tbody tr th:only-of-type {\n",
       "        vertical-align: middle;\n",
       "    }\n",
       "\n",
       "    .dataframe tbody tr th {\n",
       "        vertical-align: top;\n",
       "    }\n",
       "\n",
       "    .dataframe thead th {\n",
       "        text-align: right;\n",
       "    }\n",
       "</style>\n",
       "<table border=\"1\" class=\"dataframe\">\n",
       "  <thead>\n",
       "    <tr style=\"text-align: right;\">\n",
       "      <th></th>\n",
       "      <th>fdc_id</th>\n",
       "      <th>brand_owner</th>\n",
       "      <th>brand_name</th>\n",
       "      <th>subbrand_name</th>\n",
       "      <th>gtin_upc</th>\n",
       "      <th>ingredients</th>\n",
       "      <th>not_a_significant_source_of</th>\n",
       "      <th>serving_size</th>\n",
       "      <th>serving_size_unit</th>\n",
       "      <th>household_serving_fulltext</th>\n",
       "      <th>...</th>\n",
       "      <th>data_source</th>\n",
       "      <th>package_weight</th>\n",
       "      <th>modified_date</th>\n",
       "      <th>available_date</th>\n",
       "      <th>market_country</th>\n",
       "      <th>discontinued_date</th>\n",
       "      <th>preparation_state_code</th>\n",
       "      <th>trade_channel</th>\n",
       "      <th>short_description</th>\n",
       "      <th>material_code</th>\n",
       "    </tr>\n",
       "  </thead>\n",
       "  <tbody>\n",
       "    <tr>\n",
       "      <th>0</th>\n",
       "      <td>1105904</td>\n",
       "      <td>Richardson Oilseed Products (US) Limited</td>\n",
       "      <td>NaN</td>\n",
       "      <td>NaN</td>\n",
       "      <td>27000612323</td>\n",
       "      <td>Vegetable Oil</td>\n",
       "      <td>NaN</td>\n",
       "      <td>15.0</td>\n",
       "      <td>ml</td>\n",
       "      <td>1 Tbsp (15 ml)</td>\n",
       "      <td>...</td>\n",
       "      <td>GDSN</td>\n",
       "      <td>NaN</td>\n",
       "      <td>2020-10-02</td>\n",
       "      <td>2020-11-13</td>\n",
       "      <td>United States</td>\n",
       "      <td>NaN</td>\n",
       "      <td>NaN</td>\n",
       "      <td>NaN</td>\n",
       "      <td>NaN</td>\n",
       "      <td>NaN</td>\n",
       "    </tr>\n",
       "    <tr>\n",
       "      <th>1</th>\n",
       "      <td>1105905</td>\n",
       "      <td>CAMPBELL SOUP COMPANY</td>\n",
       "      <td>NaN</td>\n",
       "      <td>NaN</td>\n",
       "      <td>51000198808</td>\n",
       "      <td>INGREDIENTS: BEEF STOCK, CONTAINS LESS THAN 2%...</td>\n",
       "      <td>NaN</td>\n",
       "      <td>240.0</td>\n",
       "      <td>ml</td>\n",
       "      <td>Amount per serving</td>\n",
       "      <td>...</td>\n",
       "      <td>GDSN</td>\n",
       "      <td>NaN</td>\n",
       "      <td>2020-09-12</td>\n",
       "      <td>2020-11-13</td>\n",
       "      <td>United States</td>\n",
       "      <td>NaN</td>\n",
       "      <td>NaN</td>\n",
       "      <td>NaN</td>\n",
       "      <td>NaN</td>\n",
       "      <td>NaN</td>\n",
       "    </tr>\n",
       "    <tr>\n",
       "      <th>2</th>\n",
       "      <td>1105906</td>\n",
       "      <td>CAMPBELL SOUP COMPANY</td>\n",
       "      <td>NaN</td>\n",
       "      <td>NaN</td>\n",
       "      <td>51000213273</td>\n",
       "      <td>INGREDIENTS: CLAM STOCK, POTATOES, CLAMS, CREA...</td>\n",
       "      <td>NaN</td>\n",
       "      <td>440.0</td>\n",
       "      <td>g</td>\n",
       "      <td>PER CONTAINER</td>\n",
       "      <td>...</td>\n",
       "      <td>GDSN</td>\n",
       "      <td>NaN</td>\n",
       "      <td>2020-09-01</td>\n",
       "      <td>2020-11-13</td>\n",
       "      <td>United States</td>\n",
       "      <td>NaN</td>\n",
       "      <td>NaN</td>\n",
       "      <td>NaN</td>\n",
       "      <td>NaN</td>\n",
       "      <td>NaN</td>\n",
       "    </tr>\n",
       "    <tr>\n",
       "      <th>3</th>\n",
       "      <td>1105907</td>\n",
       "      <td>CAMPBELL SOUP COMPANY</td>\n",
       "      <td>NaN</td>\n",
       "      <td>NaN</td>\n",
       "      <td>51000213303</td>\n",
       "      <td>INGREDIENTS: WATER, CREAM, BROCCOLI, CELERY, V...</td>\n",
       "      <td>NaN</td>\n",
       "      <td>440.0</td>\n",
       "      <td>g</td>\n",
       "      <td>PER CONTAINER</td>\n",
       "      <td>...</td>\n",
       "      <td>GDSN</td>\n",
       "      <td>NaN</td>\n",
       "      <td>2020-09-01</td>\n",
       "      <td>2020-11-13</td>\n",
       "      <td>United States</td>\n",
       "      <td>NaN</td>\n",
       "      <td>NaN</td>\n",
       "      <td>NaN</td>\n",
       "      <td>NaN</td>\n",
       "      <td>NaN</td>\n",
       "    </tr>\n",
       "    <tr>\n",
       "      <th>4</th>\n",
       "      <td>1105908</td>\n",
       "      <td>CAMPBELL SOUP COMPANY</td>\n",
       "      <td>NaN</td>\n",
       "      <td>NaN</td>\n",
       "      <td>51000224637</td>\n",
       "      <td>INGREDIENTS: CHICKEN STOCK, CONTAINS LESS THAN...</td>\n",
       "      <td>NaN</td>\n",
       "      <td>240.0</td>\n",
       "      <td>ml</td>\n",
       "      <td>Amount per Serving</td>\n",
       "      <td>...</td>\n",
       "      <td>GDSN</td>\n",
       "      <td>NaN</td>\n",
       "      <td>2020-10-03</td>\n",
       "      <td>2020-11-13</td>\n",
       "      <td>United States</td>\n",
       "      <td>NaN</td>\n",
       "      <td>NaN</td>\n",
       "      <td>NaN</td>\n",
       "      <td>NaN</td>\n",
       "      <td>NaN</td>\n",
       "    </tr>\n",
       "  </tbody>\n",
       "</table>\n",
       "<p>5 rows × 21 columns</p>\n",
       "</div>"
      ],
      "text/plain": [
       "    fdc_id                               brand_owner brand_name subbrand_name  \\\n",
       "0  1105904  Richardson Oilseed Products (US) Limited        NaN           NaN   \n",
       "1  1105905                     CAMPBELL SOUP COMPANY        NaN           NaN   \n",
       "2  1105906                     CAMPBELL SOUP COMPANY        NaN           NaN   \n",
       "3  1105907                     CAMPBELL SOUP COMPANY        NaN           NaN   \n",
       "4  1105908                     CAMPBELL SOUP COMPANY        NaN           NaN   \n",
       "\n",
       "      gtin_upc                                        ingredients  \\\n",
       "0  27000612323                                      Vegetable Oil   \n",
       "1  51000198808  INGREDIENTS: BEEF STOCK, CONTAINS LESS THAN 2%...   \n",
       "2  51000213273  INGREDIENTS: CLAM STOCK, POTATOES, CLAMS, CREA...   \n",
       "3  51000213303  INGREDIENTS: WATER, CREAM, BROCCOLI, CELERY, V...   \n",
       "4  51000224637  INGREDIENTS: CHICKEN STOCK, CONTAINS LESS THAN...   \n",
       "\n",
       "  not_a_significant_source_of  serving_size serving_size_unit  \\\n",
       "0                         NaN          15.0                ml   \n",
       "1                         NaN         240.0                ml   \n",
       "2                         NaN         440.0                 g   \n",
       "3                         NaN         440.0                 g   \n",
       "4                         NaN         240.0                ml   \n",
       "\n",
       "  household_serving_fulltext  ... data_source package_weight modified_date  \\\n",
       "0             1 Tbsp (15 ml)  ...        GDSN            NaN    2020-10-02   \n",
       "1         Amount per serving  ...        GDSN            NaN    2020-09-12   \n",
       "2              PER CONTAINER  ...        GDSN            NaN    2020-09-01   \n",
       "3              PER CONTAINER  ...        GDSN            NaN    2020-09-01   \n",
       "4         Amount per Serving  ...        GDSN            NaN    2020-10-03   \n",
       "\n",
       "  available_date market_country discontinued_date preparation_state_code  \\\n",
       "0     2020-11-13  United States               NaN                    NaN   \n",
       "1     2020-11-13  United States               NaN                    NaN   \n",
       "2     2020-11-13  United States               NaN                    NaN   \n",
       "3     2020-11-13  United States               NaN                    NaN   \n",
       "4     2020-11-13  United States               NaN                    NaN   \n",
       "\n",
       "  trade_channel short_description material_code  \n",
       "0           NaN               NaN           NaN  \n",
       "1           NaN               NaN           NaN  \n",
       "2           NaN               NaN           NaN  \n",
       "3           NaN               NaN           NaN  \n",
       "4           NaN               NaN           NaN  \n",
       "\n",
       "[5 rows x 21 columns]"
      ]
     },
     "execution_count": 13,
     "metadata": {},
     "output_type": "execute_result"
    }
   ],
   "source": [
    "food = pd.read_csv('/Users/rahulbaid/Downloads/FoodData_Central/branded_food.csv', header=0)\n",
    "food.head()"
   ]
  },
  {
   "cell_type": "code",
   "execution_count": 14,
   "id": "ecc47170",
   "metadata": {},
   "outputs": [
    {
     "name": "stderr",
     "output_type": "stream",
     "text": [
      "/var/folders/8g/fr799mss32l7s7t1l915gvdw0000gn/T/ipykernel_20048/2459148569.py:1: DtypeWarning: Columns (6) have mixed types. Specify dtype option on import or set low_memory=False.\n",
      "  description = pd.read_csv('/Users/rahulbaid/Downloads/FoodData_Central/food.csv', header=0)\n"
     ]
    },
    {
     "data": {
      "text/html": [
       "<div>\n",
       "<style scoped>\n",
       "    .dataframe tbody tr th:only-of-type {\n",
       "        vertical-align: middle;\n",
       "    }\n",
       "\n",
       "    .dataframe tbody tr th {\n",
       "        vertical-align: top;\n",
       "    }\n",
       "\n",
       "    .dataframe thead th {\n",
       "        text-align: right;\n",
       "    }\n",
       "</style>\n",
       "<table border=\"1\" class=\"dataframe\">\n",
       "  <thead>\n",
       "    <tr style=\"text-align: right;\">\n",
       "      <th></th>\n",
       "      <th>fdc_id</th>\n",
       "      <th>data_type</th>\n",
       "      <th>description</th>\n",
       "      <th>food_category_id</th>\n",
       "      <th>publication_date</th>\n",
       "      <th>market_country</th>\n",
       "      <th>trade_channel</th>\n",
       "      <th>microbe_data</th>\n",
       "    </tr>\n",
       "  </thead>\n",
       "  <tbody>\n",
       "    <tr>\n",
       "      <th>0</th>\n",
       "      <td>1105904</td>\n",
       "      <td>branded_food</td>\n",
       "      <td>WESSON Vegetable Oil 1 GAL</td>\n",
       "      <td>NaN</td>\n",
       "      <td>2020-11-13</td>\n",
       "      <td>United States</td>\n",
       "      <td>NaN</td>\n",
       "      <td>[{\"min_value\":null,\"uom\":null,\"microbe_method\"...</td>\n",
       "    </tr>\n",
       "    <tr>\n",
       "      <th>1</th>\n",
       "      <td>1105905</td>\n",
       "      <td>branded_food</td>\n",
       "      <td>SWANSON BROTH BEEF</td>\n",
       "      <td>NaN</td>\n",
       "      <td>2020-11-13</td>\n",
       "      <td>United States</td>\n",
       "      <td>NaN</td>\n",
       "      <td>[{\"min_value\":null,\"uom\":null,\"microbe_method\"...</td>\n",
       "    </tr>\n",
       "    <tr>\n",
       "      <th>2</th>\n",
       "      <td>1105906</td>\n",
       "      <td>branded_food</td>\n",
       "      <td>CAMPBELL'S SLOW KETTLE SOUP CLAM CHOWDER</td>\n",
       "      <td>NaN</td>\n",
       "      <td>2020-11-13</td>\n",
       "      <td>United States</td>\n",
       "      <td>NaN</td>\n",
       "      <td>[{\"min_value\":null,\"uom\":null,\"microbe_method\"...</td>\n",
       "    </tr>\n",
       "    <tr>\n",
       "      <th>3</th>\n",
       "      <td>1105907</td>\n",
       "      <td>branded_food</td>\n",
       "      <td>CAMPBELL'S SLOW KETTLE SOUP CHEESE BROCCOLI</td>\n",
       "      <td>NaN</td>\n",
       "      <td>2020-11-13</td>\n",
       "      <td>United States</td>\n",
       "      <td>NaN</td>\n",
       "      <td>[{\"min_value\":null,\"uom\":null,\"microbe_method\"...</td>\n",
       "    </tr>\n",
       "    <tr>\n",
       "      <th>4</th>\n",
       "      <td>1105908</td>\n",
       "      <td>branded_food</td>\n",
       "      <td>SWANSON BROTH CHICKEN</td>\n",
       "      <td>NaN</td>\n",
       "      <td>2020-11-13</td>\n",
       "      <td>United States</td>\n",
       "      <td>NaN</td>\n",
       "      <td>[{\"min_value\":null,\"uom\":null,\"microbe_method\"...</td>\n",
       "    </tr>\n",
       "  </tbody>\n",
       "</table>\n",
       "</div>"
      ],
      "text/plain": [
       "    fdc_id     data_type                                  description  \\\n",
       "0  1105904  branded_food                   WESSON Vegetable Oil 1 GAL   \n",
       "1  1105905  branded_food                           SWANSON BROTH BEEF   \n",
       "2  1105906  branded_food     CAMPBELL'S SLOW KETTLE SOUP CLAM CHOWDER   \n",
       "3  1105907  branded_food  CAMPBELL'S SLOW KETTLE SOUP CHEESE BROCCOLI   \n",
       "4  1105908  branded_food                        SWANSON BROTH CHICKEN   \n",
       "\n",
       "   food_category_id publication_date market_country trade_channel  \\\n",
       "0               NaN       2020-11-13  United States           NaN   \n",
       "1               NaN       2020-11-13  United States           NaN   \n",
       "2               NaN       2020-11-13  United States           NaN   \n",
       "3               NaN       2020-11-13  United States           NaN   \n",
       "4               NaN       2020-11-13  United States           NaN   \n",
       "\n",
       "                                        microbe_data  \n",
       "0  [{\"min_value\":null,\"uom\":null,\"microbe_method\"...  \n",
       "1  [{\"min_value\":null,\"uom\":null,\"microbe_method\"...  \n",
       "2  [{\"min_value\":null,\"uom\":null,\"microbe_method\"...  \n",
       "3  [{\"min_value\":null,\"uom\":null,\"microbe_method\"...  \n",
       "4  [{\"min_value\":null,\"uom\":null,\"microbe_method\"...  "
      ]
     },
     "execution_count": 14,
     "metadata": {},
     "output_type": "execute_result"
    }
   ],
   "source": [
    "description = pd.read_csv('/Users/rahulbaid/Downloads/FoodData_Central/food.csv', header=0)\n",
    "description.head()"
   ]
  },
  {
   "cell_type": "code",
   "execution_count": 15,
   "id": "3bacd6c0",
   "metadata": {},
   "outputs": [
    {
     "data": {
      "text/plain": [
       "55367144"
      ]
     },
     "execution_count": 15,
     "metadata": {},
     "output_type": "execute_result"
    }
   ],
   "source": [
    "# Merge the two dataframes on the 'fdc_id' column\n",
    "merged_df = pd.merge(food, description, on='fdc_id', how='inner')\n",
    "merged_df.size"
   ]
  },
  {
   "cell_type": "code",
   "execution_count": 16,
   "id": "16dbc6a9",
   "metadata": {},
   "outputs": [
    {
     "data": {
      "text/plain": [
       "Index(['fdc_id', 'brand_owner', 'brand_name', 'subbrand_name', 'gtin_upc',\n",
       "       'ingredients', 'not_a_significant_source_of', 'serving_size',\n",
       "       'serving_size_unit', 'household_serving_fulltext',\n",
       "       'branded_food_category', 'data_source', 'package_weight',\n",
       "       'modified_date', 'available_date', 'market_country_x',\n",
       "       'discontinued_date', 'preparation_state_code', 'trade_channel_x',\n",
       "       'short_description', 'material_code', 'data_type', 'description',\n",
       "       'food_category_id', 'publication_date', 'market_country_y',\n",
       "       'trade_channel_y', 'microbe_data'],\n",
       "      dtype='object')"
      ]
     },
     "execution_count": 16,
     "metadata": {},
     "output_type": "execute_result"
    }
   ],
   "source": [
    "merged_df.columns"
   ]
  },
  {
   "cell_type": "code",
   "execution_count": 17,
   "id": "e958a514",
   "metadata": {},
   "outputs": [],
   "source": [
    "merged_df = merged_df.drop_duplicates(subset=['ingredients', 'description', 'brand_name'])\n",
    "merged_df = merged_df.drop_duplicates(subset='fdc_id')\n",
    "merged_df = merged_df.drop_duplicates(subset='gtin_upc')"
   ]
  },
  {
   "cell_type": "code",
   "execution_count": 18,
   "id": "841732bb",
   "metadata": {},
   "outputs": [],
   "source": [
    "# remove rows with NaN values in 'ingredients' or 'description'\n",
    "merged_df = merged_df.dropna(subset=['ingredients', 'description', 'fdc_id', 'gtin_upc'])"
   ]
  },
  {
   "cell_type": "code",
   "execution_count": 19,
   "id": "fb95afa6",
   "metadata": {},
   "outputs": [
    {
     "data": {
      "text/plain": [
       "True"
      ]
     },
     "execution_count": 19,
     "metadata": {},
     "output_type": "execute_result"
    }
   ],
   "source": [
    "merged_df.fdc_id.nunique() == merged_df.shape[0]"
   ]
  },
  {
   "cell_type": "code",
   "execution_count": 20,
   "id": "a0b99306",
   "metadata": {},
   "outputs": [
    {
     "data": {
      "text/plain": [
       "branded_food_category\n",
       "Candy                                          28649\n",
       "Popcorn, Peanuts, Seeds & Related Snacks       27726\n",
       "Cheese                                         22669\n",
       "Ice Cream & Frozen Yogurt                      18009\n",
       "Cookies & Biscuits                             17422\n",
       "                                               ...  \n",
       "Fresh Chicken - Portions                           1\n",
       "Wrapped Snacks - Fruit Bars                        1\n",
       "Cakes/Slices/Biscuits                              1\n",
       "Ice-Cream/Block Single                             1\n",
       "Baking/Cooking Mixes/Supplies Variety Packs        1\n",
       "Name: count, Length: 388, dtype: int64"
      ]
     },
     "execution_count": 20,
     "metadata": {},
     "output_type": "execute_result"
    }
   ],
   "source": [
    "merged_df.branded_food_category.value_counts()"
   ]
  },
  {
   "cell_type": "code",
   "execution_count": 21,
   "id": "9c9a3375",
   "metadata": {},
   "outputs": [],
   "source": [
    "# Remove rows with 'branded_food_category' where its count is less than 5\n",
    "merged_df = merged_df[merged_df['branded_food_category'].map(merged_df['branded_food_category'].value_counts()) >= 5]"
   ]
  },
  {
   "cell_type": "code",
   "execution_count": 22,
   "id": "00e7ed31",
   "metadata": {},
   "outputs": [
    {
     "data": {
      "text/plain": [
       "555150"
      ]
     },
     "execution_count": 22,
     "metadata": {},
     "output_type": "execute_result"
    }
   ],
   "source": [
    "merged_df.shape[0]"
   ]
  },
  {
   "cell_type": "code",
   "execution_count": 23,
   "id": "404e235c",
   "metadata": {},
   "outputs": [],
   "source": [
    "# Keep only the relevant columns\n",
    "relevant_columns = [\n",
    "    'fdc_id', 'gtin_upc', 'description', 'brand_owner', 'brand_name', 'ingredients',  'branded_food_category'\n",
    "]\n",
    "merged_df = merged_df[relevant_columns]"
   ]
  },
  {
   "cell_type": "code",
   "execution_count": 24,
   "id": "03e89647",
   "metadata": {},
   "outputs": [],
   "source": [
    "# Remove 'INGREDIENTS' from 'ingredients' column\n",
    "merged_df['ingredients'] = merged_df['ingredients'].str.replace('INGREDIENTS:', '', regex=False).str.strip()"
   ]
  },
  {
   "cell_type": "code",
   "execution_count": 25,
   "id": "838ee259",
   "metadata": {},
   "outputs": [],
   "source": [
    "# convert all string columns to lowercase\n",
    "string_columns = ['description', 'brand_owner', 'brand_name', 'ingredients', 'branded_food_category']\n",
    "for col in string_columns:\n",
    "    merged_df[col] = merged_df[col].str.lower().fillna('')"
   ]
  },
  {
   "cell_type": "code",
   "execution_count": 26,
   "id": "ceea3726",
   "metadata": {},
   "outputs": [],
   "source": [
    "merged_df.gtin_upc = merged_df.gtin_upc.fillna('')"
   ]
  },
  {
   "cell_type": "code",
   "execution_count": 21,
   "id": "6ed5f375",
   "metadata": {},
   "outputs": [],
   "source": [
    "# Save the cleaned DataFrame to a new CSV file\n",
    "merged_df.to_csv('products.csv', index=False)"
   ]
  },
  {
   "cell_type": "code",
   "execution_count": 27,
   "id": "10388ad4",
   "metadata": {},
   "outputs": [],
   "source": [
    "# add a new column 'source' with the value 'usda'\n",
    "merged_df['source'] = 'usda'"
   ]
  },
  {
   "cell_type": "code",
   "execution_count": 28,
   "id": "8f2d6ef9",
   "metadata": {},
   "outputs": [
    {
     "data": {
      "text/html": [
       "<div>\n",
       "<style scoped>\n",
       "    .dataframe tbody tr th:only-of-type {\n",
       "        vertical-align: middle;\n",
       "    }\n",
       "\n",
       "    .dataframe tbody tr th {\n",
       "        vertical-align: top;\n",
       "    }\n",
       "\n",
       "    .dataframe thead th {\n",
       "        text-align: right;\n",
       "    }\n",
       "</style>\n",
       "<table border=\"1\" class=\"dataframe\">\n",
       "  <thead>\n",
       "    <tr style=\"text-align: right;\">\n",
       "      <th></th>\n",
       "      <th>fdc_id</th>\n",
       "      <th>gtin_upc</th>\n",
       "      <th>description</th>\n",
       "      <th>brand_owner</th>\n",
       "      <th>brand_name</th>\n",
       "      <th>ingredients</th>\n",
       "      <th>branded_food_category</th>\n",
       "      <th>source</th>\n",
       "    </tr>\n",
       "  </thead>\n",
       "  <tbody>\n",
       "    <tr>\n",
       "      <th>0</th>\n",
       "      <td>1105904</td>\n",
       "      <td>27000612323</td>\n",
       "      <td>wesson vegetable oil 1 gal</td>\n",
       "      <td>richardson oilseed products (us) limited</td>\n",
       "      <td></td>\n",
       "      <td>vegetable oil</td>\n",
       "      <td>oils edible</td>\n",
       "      <td>usda</td>\n",
       "    </tr>\n",
       "    <tr>\n",
       "      <th>1</th>\n",
       "      <td>1105905</td>\n",
       "      <td>51000198808</td>\n",
       "      <td>swanson broth beef</td>\n",
       "      <td>campbell soup company</td>\n",
       "      <td></td>\n",
       "      <td>beef stock, contains less than 2% of: mirepoix...</td>\n",
       "      <td>herbs/spices/extracts</td>\n",
       "      <td>usda</td>\n",
       "    </tr>\n",
       "    <tr>\n",
       "      <th>2</th>\n",
       "      <td>1105906</td>\n",
       "      <td>51000213273</td>\n",
       "      <td>campbell's slow kettle soup clam chowder</td>\n",
       "      <td>campbell soup company</td>\n",
       "      <td></td>\n",
       "      <td>clam stock, potatoes, clams, cream, vegetable ...</td>\n",
       "      <td>prepared soups</td>\n",
       "      <td>usda</td>\n",
       "    </tr>\n",
       "    <tr>\n",
       "      <th>3</th>\n",
       "      <td>1105907</td>\n",
       "      <td>51000213303</td>\n",
       "      <td>campbell's slow kettle soup cheese broccoli</td>\n",
       "      <td>campbell soup company</td>\n",
       "      <td></td>\n",
       "      <td>water, cream, broccoli, celery, vegetable oil ...</td>\n",
       "      <td>prepared soups</td>\n",
       "      <td>usda</td>\n",
       "    </tr>\n",
       "    <tr>\n",
       "      <th>4</th>\n",
       "      <td>1105908</td>\n",
       "      <td>51000224637</td>\n",
       "      <td>swanson broth chicken</td>\n",
       "      <td>campbell soup company</td>\n",
       "      <td></td>\n",
       "      <td>chicken stock, contains less than 2% of: yeast...</td>\n",
       "      <td>herbs/spices/extracts</td>\n",
       "      <td>usda</td>\n",
       "    </tr>\n",
       "  </tbody>\n",
       "</table>\n",
       "</div>"
      ],
      "text/plain": [
       "    fdc_id     gtin_upc                                  description  \\\n",
       "0  1105904  27000612323                   wesson vegetable oil 1 gal   \n",
       "1  1105905  51000198808                           swanson broth beef   \n",
       "2  1105906  51000213273     campbell's slow kettle soup clam chowder   \n",
       "3  1105907  51000213303  campbell's slow kettle soup cheese broccoli   \n",
       "4  1105908  51000224637                        swanson broth chicken   \n",
       "\n",
       "                                brand_owner brand_name  \\\n",
       "0  richardson oilseed products (us) limited              \n",
       "1                     campbell soup company              \n",
       "2                     campbell soup company              \n",
       "3                     campbell soup company              \n",
       "4                     campbell soup company              \n",
       "\n",
       "                                         ingredients  branded_food_category  \\\n",
       "0                                      vegetable oil            oils edible   \n",
       "1  beef stock, contains less than 2% of: mirepoix...  herbs/spices/extracts   \n",
       "2  clam stock, potatoes, clams, cream, vegetable ...         prepared soups   \n",
       "3  water, cream, broccoli, celery, vegetable oil ...         prepared soups   \n",
       "4  chicken stock, contains less than 2% of: yeast...  herbs/spices/extracts   \n",
       "\n",
       "  source  \n",
       "0   usda  \n",
       "1   usda  \n",
       "2   usda  \n",
       "3   usda  \n",
       "4   usda  "
      ]
     },
     "execution_count": 28,
     "metadata": {},
     "output_type": "execute_result"
    }
   ],
   "source": [
    "merged_df.head()"
   ]
  },
  {
   "cell_type": "code",
   "execution_count": 29,
   "id": "000a07a3",
   "metadata": {},
   "outputs": [],
   "source": [
    "# Add a new 'created_at' column with the current date\n",
    "from datetime import datetime\n",
    "merged_df['created_at'] = datetime.now().strftime('%Y-%m-%d %H:%M:%S')"
   ]
  },
  {
   "cell_type": "code",
   "execution_count": 186,
   "id": "e8d608b3",
   "metadata": {},
   "outputs": [],
   "source": [
    "CHUNK_SIZE = 200_000\n",
    "# Split the DataFrame into chunks and save each chunk to a separate CSV file\n",
    "for i in range(0, len(merged_df), CHUNK_SIZE):\n",
    "    chunk = merged_df.iloc[i:i + CHUNK_SIZE]\n",
    "    chunk.to_csv(f'products_chunk_{i // CHUNK_SIZE}.csv', index=False)"
   ]
  },
  {
   "cell_type": "code",
   "execution_count": 18,
   "id": "7691da17",
   "metadata": {},
   "outputs": [
    {
     "name": "stderr",
     "output_type": "stream",
     "text": [
      "/var/folders/8g/fr799mss32l7s7t1l915gvdw0000gn/T/ipykernel_20401/1473317525.py:1: DtypeWarning: Columns (1) have mixed types. Specify dtype option on import or set low_memory=False.\n",
      "  merged_df = pd.read_csv('products.csv', header=0)\n"
     ]
    }
   ],
   "source": [
    "merged_df = pd.read_csv('products.csv', header=0)"
   ]
  },
  {
   "cell_type": "code",
   "execution_count": 20,
   "id": "35d1e321",
   "metadata": {},
   "outputs": [],
   "source": [
    "merged_df.drop(columns='created_at', inplace=True)"
   ]
  },
  {
   "cell_type": "code",
   "execution_count": 3,
   "id": "da445424",
   "metadata": {},
   "outputs": [
    {
     "ename": "FileNotFoundError",
     "evalue": "[Errno 2] No such file or directory: '/Users/rahulbaid/Downloads/FoodData_Central/food_nutrient.csv'",
     "output_type": "error",
     "traceback": [
      "\u001b[31m---------------------------------------------------------------------------\u001b[39m",
      "\u001b[31mFileNotFoundError\u001b[39m                         Traceback (most recent call last)",
      "\u001b[36mCell\u001b[39m\u001b[36m \u001b[39m\u001b[32mIn[3]\u001b[39m\u001b[32m, line 1\u001b[39m\n\u001b[32m----> \u001b[39m\u001b[32m1\u001b[39m nutrient = \u001b[43mpd\u001b[49m\u001b[43m.\u001b[49m\u001b[43mread_csv\u001b[49m\u001b[43m(\u001b[49m\u001b[33;43m'\u001b[39;49m\u001b[33;43m/Users/rahulbaid/Downloads/FoodData_Central/food_nutrient.csv\u001b[39;49m\u001b[33;43m'\u001b[39;49m\u001b[43m,\u001b[49m\u001b[43m \u001b[49m\u001b[43mheader\u001b[49m\u001b[43m=\u001b[49m\u001b[32;43m0\u001b[39;49m\u001b[43m)\u001b[49m\n",
      "\u001b[36mFile \u001b[39m\u001b[32m~/.pyenv/versions/3.12.7/lib/python3.12/site-packages/pandas/io/parsers/readers.py:1026\u001b[39m, in \u001b[36mread_csv\u001b[39m\u001b[34m(filepath_or_buffer, sep, delimiter, header, names, index_col, usecols, dtype, engine, converters, true_values, false_values, skipinitialspace, skiprows, skipfooter, nrows, na_values, keep_default_na, na_filter, verbose, skip_blank_lines, parse_dates, infer_datetime_format, keep_date_col, date_parser, date_format, dayfirst, cache_dates, iterator, chunksize, compression, thousands, decimal, lineterminator, quotechar, quoting, doublequote, escapechar, comment, encoding, encoding_errors, dialect, on_bad_lines, delim_whitespace, low_memory, memory_map, float_precision, storage_options, dtype_backend)\u001b[39m\n\u001b[32m   1013\u001b[39m kwds_defaults = _refine_defaults_read(\n\u001b[32m   1014\u001b[39m     dialect,\n\u001b[32m   1015\u001b[39m     delimiter,\n\u001b[32m   (...)\u001b[39m\u001b[32m   1022\u001b[39m     dtype_backend=dtype_backend,\n\u001b[32m   1023\u001b[39m )\n\u001b[32m   1024\u001b[39m kwds.update(kwds_defaults)\n\u001b[32m-> \u001b[39m\u001b[32m1026\u001b[39m \u001b[38;5;28;01mreturn\u001b[39;00m \u001b[43m_read\u001b[49m\u001b[43m(\u001b[49m\u001b[43mfilepath_or_buffer\u001b[49m\u001b[43m,\u001b[49m\u001b[43m \u001b[49m\u001b[43mkwds\u001b[49m\u001b[43m)\u001b[49m\n",
      "\u001b[36mFile \u001b[39m\u001b[32m~/.pyenv/versions/3.12.7/lib/python3.12/site-packages/pandas/io/parsers/readers.py:620\u001b[39m, in \u001b[36m_read\u001b[39m\u001b[34m(filepath_or_buffer, kwds)\u001b[39m\n\u001b[32m    617\u001b[39m _validate_names(kwds.get(\u001b[33m\"\u001b[39m\u001b[33mnames\u001b[39m\u001b[33m\"\u001b[39m, \u001b[38;5;28;01mNone\u001b[39;00m))\n\u001b[32m    619\u001b[39m \u001b[38;5;66;03m# Create the parser.\u001b[39;00m\n\u001b[32m--> \u001b[39m\u001b[32m620\u001b[39m parser = \u001b[43mTextFileReader\u001b[49m\u001b[43m(\u001b[49m\u001b[43mfilepath_or_buffer\u001b[49m\u001b[43m,\u001b[49m\u001b[43m \u001b[49m\u001b[43m*\u001b[49m\u001b[43m*\u001b[49m\u001b[43mkwds\u001b[49m\u001b[43m)\u001b[49m\n\u001b[32m    622\u001b[39m \u001b[38;5;28;01mif\u001b[39;00m chunksize \u001b[38;5;129;01mor\u001b[39;00m iterator:\n\u001b[32m    623\u001b[39m     \u001b[38;5;28;01mreturn\u001b[39;00m parser\n",
      "\u001b[36mFile \u001b[39m\u001b[32m~/.pyenv/versions/3.12.7/lib/python3.12/site-packages/pandas/io/parsers/readers.py:1620\u001b[39m, in \u001b[36mTextFileReader.__init__\u001b[39m\u001b[34m(self, f, engine, **kwds)\u001b[39m\n\u001b[32m   1617\u001b[39m     \u001b[38;5;28mself\u001b[39m.options[\u001b[33m\"\u001b[39m\u001b[33mhas_index_names\u001b[39m\u001b[33m\"\u001b[39m] = kwds[\u001b[33m\"\u001b[39m\u001b[33mhas_index_names\u001b[39m\u001b[33m\"\u001b[39m]\n\u001b[32m   1619\u001b[39m \u001b[38;5;28mself\u001b[39m.handles: IOHandles | \u001b[38;5;28;01mNone\u001b[39;00m = \u001b[38;5;28;01mNone\u001b[39;00m\n\u001b[32m-> \u001b[39m\u001b[32m1620\u001b[39m \u001b[38;5;28mself\u001b[39m._engine = \u001b[38;5;28;43mself\u001b[39;49m\u001b[43m.\u001b[49m\u001b[43m_make_engine\u001b[49m\u001b[43m(\u001b[49m\u001b[43mf\u001b[49m\u001b[43m,\u001b[49m\u001b[43m \u001b[49m\u001b[38;5;28;43mself\u001b[39;49m\u001b[43m.\u001b[49m\u001b[43mengine\u001b[49m\u001b[43m)\u001b[49m\n",
      "\u001b[36mFile \u001b[39m\u001b[32m~/.pyenv/versions/3.12.7/lib/python3.12/site-packages/pandas/io/parsers/readers.py:1880\u001b[39m, in \u001b[36mTextFileReader._make_engine\u001b[39m\u001b[34m(self, f, engine)\u001b[39m\n\u001b[32m   1878\u001b[39m     \u001b[38;5;28;01mif\u001b[39;00m \u001b[33m\"\u001b[39m\u001b[33mb\u001b[39m\u001b[33m\"\u001b[39m \u001b[38;5;129;01mnot\u001b[39;00m \u001b[38;5;129;01min\u001b[39;00m mode:\n\u001b[32m   1879\u001b[39m         mode += \u001b[33m\"\u001b[39m\u001b[33mb\u001b[39m\u001b[33m\"\u001b[39m\n\u001b[32m-> \u001b[39m\u001b[32m1880\u001b[39m \u001b[38;5;28mself\u001b[39m.handles = \u001b[43mget_handle\u001b[49m\u001b[43m(\u001b[49m\n\u001b[32m   1881\u001b[39m \u001b[43m    \u001b[49m\u001b[43mf\u001b[49m\u001b[43m,\u001b[49m\n\u001b[32m   1882\u001b[39m \u001b[43m    \u001b[49m\u001b[43mmode\u001b[49m\u001b[43m,\u001b[49m\n\u001b[32m   1883\u001b[39m \u001b[43m    \u001b[49m\u001b[43mencoding\u001b[49m\u001b[43m=\u001b[49m\u001b[38;5;28;43mself\u001b[39;49m\u001b[43m.\u001b[49m\u001b[43moptions\u001b[49m\u001b[43m.\u001b[49m\u001b[43mget\u001b[49m\u001b[43m(\u001b[49m\u001b[33;43m\"\u001b[39;49m\u001b[33;43mencoding\u001b[39;49m\u001b[33;43m\"\u001b[39;49m\u001b[43m,\u001b[49m\u001b[43m \u001b[49m\u001b[38;5;28;43;01mNone\u001b[39;49;00m\u001b[43m)\u001b[49m\u001b[43m,\u001b[49m\n\u001b[32m   1884\u001b[39m \u001b[43m    \u001b[49m\u001b[43mcompression\u001b[49m\u001b[43m=\u001b[49m\u001b[38;5;28;43mself\u001b[39;49m\u001b[43m.\u001b[49m\u001b[43moptions\u001b[49m\u001b[43m.\u001b[49m\u001b[43mget\u001b[49m\u001b[43m(\u001b[49m\u001b[33;43m\"\u001b[39;49m\u001b[33;43mcompression\u001b[39;49m\u001b[33;43m\"\u001b[39;49m\u001b[43m,\u001b[49m\u001b[43m \u001b[49m\u001b[38;5;28;43;01mNone\u001b[39;49;00m\u001b[43m)\u001b[49m\u001b[43m,\u001b[49m\n\u001b[32m   1885\u001b[39m \u001b[43m    \u001b[49m\u001b[43mmemory_map\u001b[49m\u001b[43m=\u001b[49m\u001b[38;5;28;43mself\u001b[39;49m\u001b[43m.\u001b[49m\u001b[43moptions\u001b[49m\u001b[43m.\u001b[49m\u001b[43mget\u001b[49m\u001b[43m(\u001b[49m\u001b[33;43m\"\u001b[39;49m\u001b[33;43mmemory_map\u001b[39;49m\u001b[33;43m\"\u001b[39;49m\u001b[43m,\u001b[49m\u001b[43m \u001b[49m\u001b[38;5;28;43;01mFalse\u001b[39;49;00m\u001b[43m)\u001b[49m\u001b[43m,\u001b[49m\n\u001b[32m   1886\u001b[39m \u001b[43m    \u001b[49m\u001b[43mis_text\u001b[49m\u001b[43m=\u001b[49m\u001b[43mis_text\u001b[49m\u001b[43m,\u001b[49m\n\u001b[32m   1887\u001b[39m \u001b[43m    \u001b[49m\u001b[43merrors\u001b[49m\u001b[43m=\u001b[49m\u001b[38;5;28;43mself\u001b[39;49m\u001b[43m.\u001b[49m\u001b[43moptions\u001b[49m\u001b[43m.\u001b[49m\u001b[43mget\u001b[49m\u001b[43m(\u001b[49m\u001b[33;43m\"\u001b[39;49m\u001b[33;43mencoding_errors\u001b[39;49m\u001b[33;43m\"\u001b[39;49m\u001b[43m,\u001b[49m\u001b[43m \u001b[49m\u001b[33;43m\"\u001b[39;49m\u001b[33;43mstrict\u001b[39;49m\u001b[33;43m\"\u001b[39;49m\u001b[43m)\u001b[49m\u001b[43m,\u001b[49m\n\u001b[32m   1888\u001b[39m \u001b[43m    \u001b[49m\u001b[43mstorage_options\u001b[49m\u001b[43m=\u001b[49m\u001b[38;5;28;43mself\u001b[39;49m\u001b[43m.\u001b[49m\u001b[43moptions\u001b[49m\u001b[43m.\u001b[49m\u001b[43mget\u001b[49m\u001b[43m(\u001b[49m\u001b[33;43m\"\u001b[39;49m\u001b[33;43mstorage_options\u001b[39;49m\u001b[33;43m\"\u001b[39;49m\u001b[43m,\u001b[49m\u001b[43m \u001b[49m\u001b[38;5;28;43;01mNone\u001b[39;49;00m\u001b[43m)\u001b[49m\u001b[43m,\u001b[49m\n\u001b[32m   1889\u001b[39m \u001b[43m\u001b[49m\u001b[43m)\u001b[49m\n\u001b[32m   1890\u001b[39m \u001b[38;5;28;01massert\u001b[39;00m \u001b[38;5;28mself\u001b[39m.handles \u001b[38;5;129;01mis\u001b[39;00m \u001b[38;5;129;01mnot\u001b[39;00m \u001b[38;5;28;01mNone\u001b[39;00m\n\u001b[32m   1891\u001b[39m f = \u001b[38;5;28mself\u001b[39m.handles.handle\n",
      "\u001b[36mFile \u001b[39m\u001b[32m~/.pyenv/versions/3.12.7/lib/python3.12/site-packages/pandas/io/common.py:873\u001b[39m, in \u001b[36mget_handle\u001b[39m\u001b[34m(path_or_buf, mode, encoding, compression, memory_map, is_text, errors, storage_options)\u001b[39m\n\u001b[32m    868\u001b[39m \u001b[38;5;28;01melif\u001b[39;00m \u001b[38;5;28misinstance\u001b[39m(handle, \u001b[38;5;28mstr\u001b[39m):\n\u001b[32m    869\u001b[39m     \u001b[38;5;66;03m# Check whether the filename is to be opened in binary mode.\u001b[39;00m\n\u001b[32m    870\u001b[39m     \u001b[38;5;66;03m# Binary mode does not support 'encoding' and 'newline'.\u001b[39;00m\n\u001b[32m    871\u001b[39m     \u001b[38;5;28;01mif\u001b[39;00m ioargs.encoding \u001b[38;5;129;01mand\u001b[39;00m \u001b[33m\"\u001b[39m\u001b[33mb\u001b[39m\u001b[33m\"\u001b[39m \u001b[38;5;129;01mnot\u001b[39;00m \u001b[38;5;129;01min\u001b[39;00m ioargs.mode:\n\u001b[32m    872\u001b[39m         \u001b[38;5;66;03m# Encoding\u001b[39;00m\n\u001b[32m--> \u001b[39m\u001b[32m873\u001b[39m         handle = \u001b[38;5;28;43mopen\u001b[39;49m\u001b[43m(\u001b[49m\n\u001b[32m    874\u001b[39m \u001b[43m            \u001b[49m\u001b[43mhandle\u001b[49m\u001b[43m,\u001b[49m\n\u001b[32m    875\u001b[39m \u001b[43m            \u001b[49m\u001b[43mioargs\u001b[49m\u001b[43m.\u001b[49m\u001b[43mmode\u001b[49m\u001b[43m,\u001b[49m\n\u001b[32m    876\u001b[39m \u001b[43m            \u001b[49m\u001b[43mencoding\u001b[49m\u001b[43m=\u001b[49m\u001b[43mioargs\u001b[49m\u001b[43m.\u001b[49m\u001b[43mencoding\u001b[49m\u001b[43m,\u001b[49m\n\u001b[32m    877\u001b[39m \u001b[43m            \u001b[49m\u001b[43merrors\u001b[49m\u001b[43m=\u001b[49m\u001b[43merrors\u001b[49m\u001b[43m,\u001b[49m\n\u001b[32m    878\u001b[39m \u001b[43m            \u001b[49m\u001b[43mnewline\u001b[49m\u001b[43m=\u001b[49m\u001b[33;43m\"\u001b[39;49m\u001b[33;43m\"\u001b[39;49m\u001b[43m,\u001b[49m\n\u001b[32m    879\u001b[39m \u001b[43m        \u001b[49m\u001b[43m)\u001b[49m\n\u001b[32m    880\u001b[39m     \u001b[38;5;28;01melse\u001b[39;00m:\n\u001b[32m    881\u001b[39m         \u001b[38;5;66;03m# Binary mode\u001b[39;00m\n\u001b[32m    882\u001b[39m         handle = \u001b[38;5;28mopen\u001b[39m(handle, ioargs.mode)\n",
      "\u001b[31mFileNotFoundError\u001b[39m: [Errno 2] No such file or directory: '/Users/rahulbaid/Downloads/FoodData_Central/food_nutrient.csv'"
     ]
    }
   ],
   "source": [
    "nutrient = pd.read_csv('/Users/rahulbaid/Downloads/FoodData_Central/food_nutrient.csv', header=0)"
   ]
  },
  {
   "cell_type": "code",
   "execution_count": 4,
   "id": "67d06d3e",
   "metadata": {},
   "outputs": [
    {
     "data": {
      "text/html": [
       "<div>\n",
       "<style scoped>\n",
       "    .dataframe tbody tr th:only-of-type {\n",
       "        vertical-align: middle;\n",
       "    }\n",
       "\n",
       "    .dataframe tbody tr th {\n",
       "        vertical-align: top;\n",
       "    }\n",
       "\n",
       "    .dataframe thead th {\n",
       "        text-align: right;\n",
       "    }\n",
       "</style>\n",
       "<table border=\"1\" class=\"dataframe\">\n",
       "  <thead>\n",
       "    <tr style=\"text-align: right;\">\n",
       "      <th></th>\n",
       "      <th>id</th>\n",
       "      <th>fdc_id</th>\n",
       "      <th>nutrient_id</th>\n",
       "      <th>amount</th>\n",
       "      <th>data_points</th>\n",
       "      <th>derivation_id</th>\n",
       "      <th>min</th>\n",
       "      <th>max</th>\n",
       "      <th>median</th>\n",
       "      <th>footnote</th>\n",
       "      <th>min_year_acquired</th>\n",
       "    </tr>\n",
       "  </thead>\n",
       "  <tbody>\n",
       "    <tr>\n",
       "      <th>0</th>\n",
       "      <td>13706927</td>\n",
       "      <td>1105904</td>\n",
       "      <td>1257</td>\n",
       "      <td>0.00</td>\n",
       "      <td>NaN</td>\n",
       "      <td>71.0</td>\n",
       "      <td>NaN</td>\n",
       "      <td>NaN</td>\n",
       "      <td>NaN</td>\n",
       "      <td>NaN</td>\n",
       "      <td>NaN</td>\n",
       "    </tr>\n",
       "    <tr>\n",
       "      <th>1</th>\n",
       "      <td>13706930</td>\n",
       "      <td>1105904</td>\n",
       "      <td>1293</td>\n",
       "      <td>53.33</td>\n",
       "      <td>NaN</td>\n",
       "      <td>71.0</td>\n",
       "      <td>NaN</td>\n",
       "      <td>NaN</td>\n",
       "      <td>NaN</td>\n",
       "      <td>NaN</td>\n",
       "      <td>NaN</td>\n",
       "    </tr>\n",
       "    <tr>\n",
       "      <th>2</th>\n",
       "      <td>13706926</td>\n",
       "      <td>1105904</td>\n",
       "      <td>1253</td>\n",
       "      <td>0.00</td>\n",
       "      <td>NaN</td>\n",
       "      <td>75.0</td>\n",
       "      <td>NaN</td>\n",
       "      <td>NaN</td>\n",
       "      <td>NaN</td>\n",
       "      <td>NaN</td>\n",
       "      <td>NaN</td>\n",
       "    </tr>\n",
       "    <tr>\n",
       "      <th>3</th>\n",
       "      <td>13706921</td>\n",
       "      <td>1105904</td>\n",
       "      <td>1092</td>\n",
       "      <td>0.00</td>\n",
       "      <td>NaN</td>\n",
       "      <td>75.0</td>\n",
       "      <td>NaN</td>\n",
       "      <td>NaN</td>\n",
       "      <td>NaN</td>\n",
       "      <td>NaN</td>\n",
       "      <td>NaN</td>\n",
       "    </tr>\n",
       "    <tr>\n",
       "      <th>4</th>\n",
       "      <td>13706916</td>\n",
       "      <td>1105904</td>\n",
       "      <td>1008</td>\n",
       "      <td>867.00</td>\n",
       "      <td>NaN</td>\n",
       "      <td>71.0</td>\n",
       "      <td>NaN</td>\n",
       "      <td>NaN</td>\n",
       "      <td>NaN</td>\n",
       "      <td>NaN</td>\n",
       "      <td>NaN</td>\n",
       "    </tr>\n",
       "  </tbody>\n",
       "</table>\n",
       "</div>"
      ],
      "text/plain": [
       "         id   fdc_id  nutrient_id  amount  data_points  derivation_id  min  \\\n",
       "0  13706927  1105904         1257    0.00          NaN           71.0  NaN   \n",
       "1  13706930  1105904         1293   53.33          NaN           71.0  NaN   \n",
       "2  13706926  1105904         1253    0.00          NaN           75.0  NaN   \n",
       "3  13706921  1105904         1092    0.00          NaN           75.0  NaN   \n",
       "4  13706916  1105904         1008  867.00          NaN           71.0  NaN   \n",
       "\n",
       "   max  median  footnote  min_year_acquired  \n",
       "0  NaN     NaN       NaN                NaN  \n",
       "1  NaN     NaN       NaN                NaN  \n",
       "2  NaN     NaN       NaN                NaN  \n",
       "3  NaN     NaN       NaN                NaN  \n",
       "4  NaN     NaN       NaN                NaN  "
      ]
     },
     "execution_count": 4,
     "metadata": {},
     "output_type": "execute_result"
    }
   ],
   "source": [
    "nutrient.head()"
   ]
  },
  {
   "cell_type": "code",
   "execution_count": 7,
   "id": "0b488025",
   "metadata": {},
   "outputs": [
    {
     "data": {
      "text/html": [
       "<div>\n",
       "<style scoped>\n",
       "    .dataframe tbody tr th:only-of-type {\n",
       "        vertical-align: middle;\n",
       "    }\n",
       "\n",
       "    .dataframe tbody tr th {\n",
       "        vertical-align: top;\n",
       "    }\n",
       "\n",
       "    .dataframe thead th {\n",
       "        text-align: right;\n",
       "    }\n",
       "</style>\n",
       "<table border=\"1\" class=\"dataframe\">\n",
       "  <thead>\n",
       "    <tr style=\"text-align: right;\">\n",
       "      <th></th>\n",
       "      <th>id</th>\n",
       "      <th>name</th>\n",
       "      <th>unit_name</th>\n",
       "      <th>nutrient_nbr</th>\n",
       "      <th>rank</th>\n",
       "    </tr>\n",
       "  </thead>\n",
       "  <tbody>\n",
       "    <tr>\n",
       "      <th>0</th>\n",
       "      <td>2047</td>\n",
       "      <td>Energy (Atwater General Factors)</td>\n",
       "      <td>KCAL</td>\n",
       "      <td>957.0</td>\n",
       "      <td>280.0</td>\n",
       "    </tr>\n",
       "    <tr>\n",
       "      <th>1</th>\n",
       "      <td>2048</td>\n",
       "      <td>Energy (Atwater Specific Factors)</td>\n",
       "      <td>KCAL</td>\n",
       "      <td>958.0</td>\n",
       "      <td>290.0</td>\n",
       "    </tr>\n",
       "    <tr>\n",
       "      <th>2</th>\n",
       "      <td>1001</td>\n",
       "      <td>Solids</td>\n",
       "      <td>G</td>\n",
       "      <td>201.0</td>\n",
       "      <td>200.0</td>\n",
       "    </tr>\n",
       "    <tr>\n",
       "      <th>3</th>\n",
       "      <td>1002</td>\n",
       "      <td>Nitrogen</td>\n",
       "      <td>G</td>\n",
       "      <td>202.0</td>\n",
       "      <td>500.0</td>\n",
       "    </tr>\n",
       "    <tr>\n",
       "      <th>4</th>\n",
       "      <td>1003</td>\n",
       "      <td>Protein</td>\n",
       "      <td>G</td>\n",
       "      <td>203.0</td>\n",
       "      <td>600.0</td>\n",
       "    </tr>\n",
       "  </tbody>\n",
       "</table>\n",
       "</div>"
      ],
      "text/plain": [
       "     id                               name unit_name  nutrient_nbr   rank\n",
       "0  2047   Energy (Atwater General Factors)      KCAL         957.0  280.0\n",
       "1  2048  Energy (Atwater Specific Factors)      KCAL         958.0  290.0\n",
       "2  1001                             Solids         G         201.0  200.0\n",
       "3  1002                           Nitrogen         G         202.0  500.0\n",
       "4  1003                            Protein         G         203.0  600.0"
      ]
     },
     "execution_count": 7,
     "metadata": {},
     "output_type": "execute_result"
    }
   ],
   "source": [
    "nutrient_meta = pd.read_csv('/Users/rahulbaid/Downloads/FoodData_Central/nutrient.csv', header=0)\n",
    "nutrient_meta.head()"
   ]
  },
  {
   "cell_type": "code",
   "execution_count": 4,
   "id": "2b3e4d96",
   "metadata": {},
   "outputs": [
    {
     "ename": "NameError",
     "evalue": "name 'nutrient' is not defined",
     "output_type": "error",
     "traceback": [
      "\u001b[31m---------------------------------------------------------------------------\u001b[39m",
      "\u001b[31mNameError\u001b[39m                                 Traceback (most recent call last)",
      "\u001b[36mCell\u001b[39m\u001b[36m \u001b[39m\u001b[32mIn[4]\u001b[39m\u001b[32m, line 2\u001b[39m\n\u001b[32m      1\u001b[39m \u001b[38;5;66;03m# merge the nutrient data with nutrient_meta on 'nutrient_id' and 'id'\u001b[39;00m\n\u001b[32m----> \u001b[39m\u001b[32m2\u001b[39m merged_nutrient = pd.merge(\u001b[43mnutrient\u001b[49m, nutrient_meta, left_on=\u001b[33m'\u001b[39m\u001b[33mnutrient_id\u001b[39m\u001b[33m'\u001b[39m, right_on=\u001b[33m'\u001b[39m\u001b[33mid\u001b[39m\u001b[33m'\u001b[39m, how=\u001b[33m'\u001b[39m\u001b[33minner\u001b[39m\u001b[33m'\u001b[39m)[[\u001b[33m'\u001b[39m\u001b[33mfdc_id\u001b[39m\u001b[33m'\u001b[39m, \u001b[33m'\u001b[39m\u001b[33mnutrient_id\u001b[39m\u001b[33m'\u001b[39m,\u001b[33m'\u001b[39m\u001b[33mname\u001b[39m\u001b[33m'\u001b[39m, \u001b[33m'\u001b[39m\u001b[33mamount\u001b[39m\u001b[33m'\u001b[39m, \u001b[33m'\u001b[39m\u001b[33munit_name\u001b[39m\u001b[33m'\u001b[39m ]]\n\u001b[32m      3\u001b[39m merged_nutrient.head()\n",
      "\u001b[31mNameError\u001b[39m: name 'nutrient' is not defined"
     ]
    }
   ],
   "source": [
    "# merge the nutrient data with nutrient_meta on 'nutrient_id' and 'id'\n",
    "merged_nutrient = pd.merge(nutrient, nutrient_meta, left_on='nutrient_id', right_on='id', how='inner')[['fdc_id', 'nutrient_id','name', 'amount', 'unit_name' ]]\n",
    "merged_nutrient.head()"
   ]
  },
  {
   "cell_type": "code",
   "execution_count": 10,
   "id": "a2b286c0",
   "metadata": {},
   "outputs": [
    {
     "data": {
      "text/plain": [
       "25652681"
      ]
     },
     "execution_count": 10,
     "metadata": {},
     "output_type": "execute_result"
    }
   ],
   "source": [
    "merged_nutrient.shape[0]"
   ]
  },
  {
   "cell_type": "code",
   "execution_count": 11,
   "id": "41ee5415",
   "metadata": {},
   "outputs": [
    {
     "data": {
      "text/plain": [
       "25650304"
      ]
     },
     "execution_count": 11,
     "metadata": {},
     "output_type": "execute_result"
    }
   ],
   "source": [
    "# remove rows with NaN values in 'amount' or 'unit_name'\n",
    "merged_nutrient = merged_nutrient.dropna(subset=['amount', 'unit_name'])\n",
    "merged_nutrient = merged_nutrient.drop_duplicates(subset=['fdc_id', 'nutrient_id'])\n",
    "merged_nutrient.shape[0]"
   ]
  },
  {
   "cell_type": "code",
   "execution_count": 31,
   "id": "33c4cd75",
   "metadata": {},
   "outputs": [],
   "source": [
    "# remove rows with 'amount' less than or equal to 0\n",
    "merged_nutrient = merged_nutrient[merged_nutrient['amount'] > 0]"
   ]
  },
  {
   "cell_type": "code",
   "execution_count": 32,
   "id": "a5ed99d9",
   "metadata": {},
   "outputs": [
    {
     "data": {
      "text/plain": [
       "4711935"
      ]
     },
     "execution_count": 32,
     "metadata": {},
     "output_type": "execute_result"
    }
   ],
   "source": [
    "# keep only those fdc_id which are present in the merged_df\n",
    "merged_nutrient = merged_nutrient[merged_nutrient['fdc_id'].isin(merged_df['fdc_id'])]\n",
    "merged_nutrient.shape[0]"
   ]
  },
  {
   "cell_type": "code",
   "execution_count": 16,
   "id": "ecc09ee7",
   "metadata": {},
   "outputs": [
    {
     "data": {
      "text/html": [
       "<div>\n",
       "<style scoped>\n",
       "    .dataframe tbody tr th:only-of-type {\n",
       "        vertical-align: middle;\n",
       "    }\n",
       "\n",
       "    .dataframe tbody tr th {\n",
       "        vertical-align: top;\n",
       "    }\n",
       "\n",
       "    .dataframe thead th {\n",
       "        text-align: right;\n",
       "    }\n",
       "</style>\n",
       "<table border=\"1\" class=\"dataframe\">\n",
       "  <thead>\n",
       "    <tr style=\"text-align: right;\">\n",
       "      <th></th>\n",
       "      <th>fdc_id</th>\n",
       "      <th>nutrient_id</th>\n",
       "      <th>name</th>\n",
       "      <th>amount</th>\n",
       "      <th>unit_name</th>\n",
       "    </tr>\n",
       "  </thead>\n",
       "  <tbody>\n",
       "    <tr>\n",
       "      <th>0</th>\n",
       "      <td>1105904</td>\n",
       "      <td>1293</td>\n",
       "      <td>Fatty acids, total polyunsaturated</td>\n",
       "      <td>53.33</td>\n",
       "      <td>G</td>\n",
       "    </tr>\n",
       "    <tr>\n",
       "      <th>1</th>\n",
       "      <td>1105904</td>\n",
       "      <td>1008</td>\n",
       "      <td>Energy</td>\n",
       "      <td>867.00</td>\n",
       "      <td>KCAL</td>\n",
       "    </tr>\n",
       "    <tr>\n",
       "      <th>2</th>\n",
       "      <td>1105904</td>\n",
       "      <td>1258</td>\n",
       "      <td>Fatty acids, total saturated</td>\n",
       "      <td>13.33</td>\n",
       "      <td>G</td>\n",
       "    </tr>\n",
       "    <tr>\n",
       "      <th>3</th>\n",
       "      <td>1105904</td>\n",
       "      <td>1292</td>\n",
       "      <td>Fatty acids, total monounsaturated</td>\n",
       "      <td>20.00</td>\n",
       "      <td>G</td>\n",
       "    </tr>\n",
       "    <tr>\n",
       "      <th>4</th>\n",
       "      <td>1105904</td>\n",
       "      <td>1004</td>\n",
       "      <td>Total lipid (fat)</td>\n",
       "      <td>93.33</td>\n",
       "      <td>G</td>\n",
       "    </tr>\n",
       "  </tbody>\n",
       "</table>\n",
       "</div>"
      ],
      "text/plain": [
       "    fdc_id  nutrient_id                                name  amount unit_name\n",
       "0  1105904         1293  Fatty acids, total polyunsaturated   53.33         G\n",
       "1  1105904         1008                              Energy  867.00      KCAL\n",
       "2  1105904         1258        Fatty acids, total saturated   13.33         G\n",
       "3  1105904         1292  Fatty acids, total monounsaturated   20.00         G\n",
       "4  1105904         1004                   Total lipid (fat)   93.33         G"
      ]
     },
     "execution_count": 16,
     "metadata": {},
     "output_type": "execute_result"
    }
   ],
   "source": [
    "merged_nutrient = pd.read_csv('nutrients.csv', header=0)\n",
    "# add created_at column\n",
    "# merged_nutrient['created_at'] = datetime.now().strftime('%Y-%m-%d %H:%M:%S')\n",
    "merged_nutrient.head()"
   ]
  },
  {
   "cell_type": "code",
   "execution_count": 15,
   "id": "ec110e48",
   "metadata": {},
   "outputs": [],
   "source": [
    "# save the cleaned nutrient DataFrame to a new CSV file\n",
    "merged_nutrient.to_csv('nutrients.csv', index=False)"
   ]
  }
 ],
 "metadata": {
  "kernelspec": {
   "display_name": "Python 3",
   "language": "python",
   "name": "python3"
  },
  "language_info": {
   "codemirror_mode": {
    "name": "ipython",
    "version": 3
   },
   "file_extension": ".py",
   "mimetype": "text/x-python",
   "name": "python",
   "nbconvert_exporter": "python",
   "pygments_lexer": "ipython3",
   "version": "3.12.7"
  }
 },
 "nbformat": 4,
 "nbformat_minor": 5
}
